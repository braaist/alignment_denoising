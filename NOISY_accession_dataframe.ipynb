{
 "cells": [
  {
   "cell_type": "code",
   "execution_count": 1,
   "id": "e2ac8c2c",
   "metadata": {},
   "outputs": [],
   "source": [
    "import json\n",
    "import numpy as np\n",
    "import pandas as pd"
   ]
  },
  {
   "cell_type": "code",
   "execution_count": 3,
   "id": "fbb80c54",
   "metadata": {
    "scrolled": true
   },
   "outputs": [],
   "source": [
    "#long time calculation\n",
    "\n",
    "PATH = \"/data/ruslan_gumerov/swisspfam\"\n",
    "\n",
    "out_dict = {}\n",
    "\n",
    "def dict_creation(PATH, out_dict):\n",
    "    with open(PATH) as myfile:\n",
    "        organism_code = None\n",
    "        for line in myfile:\n",
    "            if line.startswith(\">\"):\n",
    "                organism_code = line.split(\" \")[0].split(\"_\")[1]\n",
    "                protein_code = line.split(\" \")[0].split(\"_\")[0][1:]\n",
    "            else:\n",
    "                if len(line.split(\" \")) != 1:\n",
    "                    domain_code = [x for x in line.split(\" \") if x.startswith(\"PF\")][0]\n",
    "                    domain_length = line.split(\" \")[-1][0:-1]\n",
    "                    if organism_code and protein_code:\n",
    "                        if organism_code not in out_dict:\n",
    "                            out_dict[organism_code] = {protein_code : {domain_code : domain_length}}\n",
    "                        elif organism_code in out_dict and protein_code not in out_dict[organism_code]:\n",
    "                            out_dict[organism_code][protein_code] = {domain_code : domain_length}\n",
    "                        elif organism_code in out_dict and protein_code in out_dict[organism_code]:\n",
    "                            out_dict[organism_code][protein_code][domain_code] = domain_length\n",
    "\n",
    "    return out_dict\n",
    "\n",
    "out_dict1 = dict_creation(PATH, out_dict)"
   ]
  },
  {
   "cell_type": "code",
   "execution_count": null,
   "id": "038145f8",
   "metadata": {},
   "outputs": [],
   "source": [
    "for key in out_dict1.keys():\n",
    "    json_object = json.dumps(out_dict1[key], indent=4)\n",
    "    with open(f\"/data/ruslan_gumerov/pfam_parsed/{key}.json\", \"w\") as outfile:\n",
    "        outfile.write(json_object)"
   ]
  },
  {
   "cell_type": "code",
   "execution_count": 2,
   "id": "675dc5fa",
   "metadata": {},
   "outputs": [
    {
     "ename": "NameError",
     "evalue": "name 'out_dict1' is not defined",
     "output_type": "error",
     "traceback": [
      "\u001b[0;31m---------------------------------------------------------------------------\u001b[0m",
      "\u001b[0;31mNameError\u001b[0m                                 Traceback (most recent call last)",
      "Input \u001b[0;32mIn [2]\u001b[0m, in \u001b[0;36m<cell line: 1>\u001b[0;34m()\u001b[0m\n\u001b[0;32m----> 1\u001b[0m \u001b[43mout_dict1\u001b[49m[\u001b[38;5;241m1\u001b[39m][\u001b[38;5;241m1\u001b[39m][\u001b[38;5;241m1\u001b[39m]\n",
      "\u001b[0;31mNameError\u001b[0m: name 'out_dict1' is not defined"
     ]
    }
   ],
   "source": [
    "out_dict1[1][1][1]"
   ]
  },
  {
   "cell_type": "code",
   "execution_count": null,
   "id": "08281ba7",
   "metadata": {},
   "outputs": [],
   "source": [
    "#long time calculation\n",
    "\n",
    "PATH = \"/data/ruslan_gumerov/swisspfam\"\n",
    "\n",
    "out_dict = {}\n",
    "\n",
    "def dict_creation(PATH, out_dict):\n",
    "    with open(PATH) as myfile:\n",
    "        organism_code = None\n",
    "        for line in myfile:\n",
    "            if line.startswith(\">\"):\n",
    "                organism_code = line.split(\" \")[0].split(\"_\")[1]\n",
    "                protein_code = line.split(\" \")[0].split(\"_\")[0][1:]\n",
    "            else:\n",
    "                if len(line.split(\" \")) != 1:\n",
    "                    domain_code = [x for x in line.split(\" \") if x.startswith(\"PF\")][0]\n",
    "                    domain_length = line.split(\" \")[-1][0:-1]\n",
    "                    if organism_code and protein_code:\n",
    "                        if organism_code not in out_dict:\n",
    "                            protein_dict = {protein_code : tuple([domain_code, domain_length])}\n",
    "                            out_dict[organism_code] = protein_dict\n",
    "                        elif organism_code in out_dict and protein_code not in out_dict[organism_code]:\n",
    "                            out_dict[organism_code][protein_code] = tuple(tuple([domain_code, domain_length]))\n",
    "                        elif organism_code in out_dict and protein_code in out_dict[organism_code]:\n",
    "                            out_dict[organism_code][protein_code] = out_dict[organism_code][protein_code] + tuple([domain_code, domain_length])\n",
    "\n",
    "\n",
    "    return out_dict\n",
    "out_dict1 = dict_creation(PATH, out_dict)\n",
    "\n",
    "with open('/data/ruslan_gumerov/organism_protein.pickle', 'wb') as handle:\n",
    "    pickle.dump(out_dict1, handle, protocol=pickle.HIGHEST_PROTOCOL)"
   ]
  }
 ],
 "metadata": {
  "kernelspec": {
   "display_name": "Python 3 (ipykernel)",
   "language": "python",
   "name": "python3"
  },
  "language_info": {
   "codemirror_mode": {
    "name": "ipython",
    "version": 3
   },
   "file_extension": ".py",
   "mimetype": "text/x-python",
   "name": "python",
   "nbconvert_exporter": "python",
   "pygments_lexer": "ipython3",
   "version": "3.9.12"
  }
 },
 "nbformat": 4,
 "nbformat_minor": 5
}
